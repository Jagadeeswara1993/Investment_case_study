{
 "cells": [
  {
   "cell_type": "markdown",
   "metadata": {},
   "source": [
    "### Importing Data"
   ]
  },
  {
   "cell_type": "code",
   "execution_count": 1,
   "metadata": {},
   "outputs": [],
   "source": [
    "import pandas as pd\n",
    "import numpy as np"
   ]
  },
  {
   "cell_type": "code",
   "execution_count": 2,
   "metadata": {},
   "outputs": [],
   "source": [
    "companies=pd.read_csv(\"companies.csv\", encoding=\"ISO-8859-1\")\n",
    "rounds2=pd.read_csv(\"rounds2.csv\", encoding=\"ISO-8859–1\")"
   ]
  },
  {
   "cell_type": "markdown",
   "metadata": {},
   "source": [
    "A preliminary look at the Datasets Companies and Rounds2 has given the below details, \n",
    "Companies shape is of (66368, 10)\n",
    "Rounds2 shape is of (114949, 6)\n",
    "Apart from raised_amount_usd in rounds2 dataset which is Float, all other are of Dtype Object"
   ]
  },
  {
   "cell_type": "markdown",
   "metadata": {},
   "source": [
    "### Data Cleaning"
   ]
  },
  {
   "cell_type": "code",
   "execution_count": 3,
   "metadata": {
    "scrolled": true
   },
   "outputs": [
    {
     "data": {
      "text/plain": [
       "permalink            0\n",
       "name                 1\n",
       "homepage_url      5058\n",
       "category_list     3148\n",
       "status               0\n",
       "country_code      6958\n",
       "state_code        8547\n",
       "region            8030\n",
       "city              8028\n",
       "founded_at       15221\n",
       "dtype: int64"
      ]
     },
     "execution_count": 3,
     "metadata": {},
     "output_type": "execute_result"
    }
   ],
   "source": [
    "companies.isnull().sum()"
   ]
  },
  {
   "cell_type": "code",
   "execution_count": 4,
   "metadata": {
    "scrolled": true
   },
   "outputs": [
    {
     "data": {
      "text/plain": [
       "company_permalink              0\n",
       "funding_round_permalink        0\n",
       "funding_round_type             0\n",
       "funding_round_code         83809\n",
       "funded_at                      0\n",
       "raised_amount_usd          19990\n",
       "dtype: int64"
      ]
     },
     "execution_count": 4,
     "metadata": {},
     "output_type": "execute_result"
    }
   ],
   "source": [
    "rounds2.isnull().sum()"
   ]
  },
  {
   "cell_type": "code",
   "execution_count": 5,
   "metadata": {},
   "outputs": [],
   "source": [
    "companies.permalink = companies.permalink.str.lower()"
   ]
  },
  {
   "cell_type": "code",
   "execution_count": 6,
   "metadata": {},
   "outputs": [],
   "source": [
    "rounds2.company_permalink = rounds2.company_permalink.str.lower()"
   ]
  },
  {
   "cell_type": "code",
   "execution_count": 7,
   "metadata": {},
   "outputs": [
    {
     "data": {
      "text/plain": [
       "66370"
      ]
     },
     "execution_count": 7,
     "metadata": {},
     "output_type": "execute_result"
    }
   ],
   "source": [
    "rounds2['company_permalink'].nunique()"
   ]
  },
  {
   "cell_type": "code",
   "execution_count": 8,
   "metadata": {},
   "outputs": [
    {
     "data": {
      "text/plain": [
       "66368"
      ]
     },
     "execution_count": 8,
     "metadata": {},
     "output_type": "execute_result"
    }
   ],
   "source": [
    "companies['permalink'].nunique()"
   ]
  },
  {
   "cell_type": "markdown",
   "metadata": {},
   "source": [
    "Verified across these companies in the Excel. Both of the datasets 'Companies' and 'Rounds2' have all the companies listed below. The difference is in the ASCII value at the end of the permalink, probably due to encoding. Therefore there are no companies in Rounds2 that are not there in Companies dataset. "
   ]
  },
  {
   "cell_type": "code",
   "execution_count": 9,
   "metadata": {},
   "outputs": [
    {
     "data": {
      "text/plain": [
       "{'/organization/e-cã\\x9abica',\n",
       " '/organization/energystone-games-ç\\x81µçÿ³æ¸¸æ\\x88\\x8f',\n",
       " '/organization/huizuche-com-æ\\x83\\xa0ç§\\x9fè½¦',\n",
       " '/organization/tipcat-interactive-æ²\\x99è\\x88\\x9fä¿¡æ\\x81¯ç§\\x91æ\\x9a\\x80',\n",
       " '/organization/zengame-ç¦\\x85æ¸¸ç§\\x91æ\\x9a\\x80'}"
      ]
     },
     "execution_count": 9,
     "metadata": {},
     "output_type": "execute_result"
    }
   ],
   "source": [
    "set(companies['permalink'].unique()).difference(set(rounds2['company_permalink'].unique()))"
   ]
  },
  {
   "cell_type": "markdown",
   "metadata": {},
   "source": [
    "### Merging Datasets"
   ]
  },
  {
   "cell_type": "code",
   "execution_count": 10,
   "metadata": {},
   "outputs": [],
   "source": [
    "master_frame= pd.merge(companies, rounds2,left_on=\"permalink\",right_on=\"company_permalink\",how='right')"
   ]
  },
  {
   "cell_type": "markdown",
   "metadata": {},
   "source": [
    "The master frame now consists of combined columns of Companies and Rounds2. Summing up the missing values (column-wise) in merged data frame"
   ]
  },
  {
   "cell_type": "code",
   "execution_count": 11,
   "metadata": {
    "scrolled": true
   },
   "outputs": [
    {
     "data": {
      "text/plain": [
       "permalink                      7\n",
       "name                           8\n",
       "homepage_url                6139\n",
       "category_list               3414\n",
       "status                         7\n",
       "country_code                8678\n",
       "state_code                 10946\n",
       "region                     10167\n",
       "city                       10164\n",
       "founded_at                 20527\n",
       "company_permalink              0\n",
       "funding_round_permalink        0\n",
       "funding_round_type             0\n",
       "funding_round_code         83809\n",
       "funded_at                      0\n",
       "raised_amount_usd          19990\n",
       "dtype: int64"
      ]
     },
     "execution_count": 11,
     "metadata": {},
     "output_type": "execute_result"
    }
   ],
   "source": [
    "master_frame.isnull().sum()"
   ]
  },
  {
   "cell_type": "markdown",
   "metadata": {},
   "source": [
    "Calaculating pecentage of null values - column-wise"
   ]
  },
  {
   "cell_type": "code",
   "execution_count": 12,
   "metadata": {
    "scrolled": false
   },
   "outputs": [
    {
     "data": {
      "text/plain": [
       "permalink                   0.01\n",
       "name                        0.01\n",
       "homepage_url                5.34\n",
       "category_list               2.97\n",
       "status                      0.01\n",
       "country_code                7.55\n",
       "state_code                  9.52\n",
       "region                      8.84\n",
       "city                        8.84\n",
       "founded_at                 17.86\n",
       "company_permalink           0.00\n",
       "funding_round_permalink     0.00\n",
       "funding_round_type          0.00\n",
       "funding_round_code         72.91\n",
       "funded_at                   0.00\n",
       "raised_amount_usd          17.39\n",
       "dtype: float64"
      ]
     },
     "execution_count": 12,
     "metadata": {},
     "output_type": "execute_result"
    }
   ],
   "source": [
    "round(100*(master_frame.isnull().sum()/len(master_frame.index)), 2)"
   ]
  },
  {
   "cell_type": "markdown",
   "metadata": {},
   "source": [
    "AS fundind round has more then 30% of null values, droping funding_round_code"
   ]
  },
  {
   "cell_type": "code",
   "execution_count": 13,
   "metadata": {},
   "outputs": [],
   "source": [
    "master_frame=master_frame.drop('funding_round_code', axis=1) \n"
   ]
  },
  {
   "cell_type": "code",
   "execution_count": 14,
   "metadata": {},
   "outputs": [
    {
     "data": {
      "text/plain": [
       "(114949, 15)"
      ]
     },
     "execution_count": 14,
     "metadata": {},
     "output_type": "execute_result"
    }
   ],
   "source": [
    "master_frame.shape"
   ]
  },
  {
   "cell_type": "markdown",
   "metadata": {},
   "source": [
    "Converting raised_amount_usd into Million (USD) by creating a new column million_usd"
   ]
  },
  {
   "cell_type": "code",
   "execution_count": 15,
   "metadata": {},
   "outputs": [],
   "source": [
    "master_frame['million_usd']=round(master_frame['raised_amount_usd']/1000000,4)"
   ]
  },
  {
   "cell_type": "code",
   "execution_count": 16,
   "metadata": {},
   "outputs": [
    {
     "data": {
      "text/plain": [
       "count    94959.000000\n",
       "mean        10.426869\n",
       "std        114.821248\n",
       "min          0.000000\n",
       "25%          0.322500\n",
       "50%          1.680500\n",
       "75%          7.000000\n",
       "max      21271.935000\n",
       "Name: million_usd, dtype: float64"
      ]
     },
     "execution_count": 16,
     "metadata": {},
     "output_type": "execute_result"
    }
   ],
   "source": [
    "master_frame['million_usd'].describe()"
   ]
  },
  {
   "cell_type": "markdown",
   "metadata": {},
   "source": [
    "The null values present in million_usd is around 17.3%. Therefore choosing to fill it with median or mean rather than deleting those rows. Since the difference between the 75% and max is very large, suggesting the presence of high value outliers that can influence mean. I choose the median to fill the empty values"
   ]
  },
  {
   "cell_type": "code",
   "execution_count": 17,
   "metadata": {},
   "outputs": [],
   "source": [
    "master_frame['raised_amount_usd'].fillna(master_frame['raised_amount_usd'].median(), inplace=True)"
   ]
  },
  {
   "cell_type": "code",
   "execution_count": 18,
   "metadata": {},
   "outputs": [],
   "source": [
    "master_frame['million_usd'].fillna(master_frame['million_usd'].median(), inplace=True)"
   ]
  },
  {
   "cell_type": "code",
   "execution_count": 19,
   "metadata": {},
   "outputs": [
    {
     "data": {
      "text/plain": [
       "permalink                      7\n",
       "name                           8\n",
       "homepage_url                6139\n",
       "category_list               3414\n",
       "status                         7\n",
       "country_code                8678\n",
       "state_code                 10946\n",
       "region                     10167\n",
       "city                       10164\n",
       "founded_at                 20527\n",
       "company_permalink              0\n",
       "funding_round_permalink        0\n",
       "funding_round_type             0\n",
       "funded_at                      0\n",
       "raised_amount_usd              0\n",
       "million_usd                    0\n",
       "dtype: int64"
      ]
     },
     "execution_count": 19,
     "metadata": {},
     "output_type": "execute_result"
    }
   ],
   "source": [
    "master_frame.isnull().sum()"
   ]
  },
  {
   "cell_type": "markdown",
   "metadata": {},
   "source": [
    "after filling with median values, the count has increased. No major variation found with respect to mean and quantiles. "
   ]
  },
  {
   "cell_type": "code",
   "execution_count": 20,
   "metadata": {},
   "outputs": [
    {
     "data": {
      "text/plain": [
       "count    114949.000000\n",
       "mean          8.905848\n",
       "std         104.413424\n",
       "min           0.000000\n",
       "25%           0.500000\n",
       "50%           1.680500\n",
       "75%           5.000000\n",
       "max       21271.935000\n",
       "Name: million_usd, dtype: float64"
      ]
     },
     "execution_count": 20,
     "metadata": {},
     "output_type": "execute_result"
    }
   ],
   "source": [
    "master_frame.million_usd.describe()"
   ]
  },
  {
   "cell_type": "markdown",
   "metadata": {},
   "source": [
    "Calculating the quantiles of 90%,95%,99% and we can also check the differnce and investigate the presence of Outliers as the difference between 75% and Max is very large"
   ]
  },
  {
   "cell_type": "code",
   "execution_count": 21,
   "metadata": {},
   "outputs": [
    {
     "data": {
      "text/plain": [
       "0.95    30.0\n",
       "Name: million_usd, dtype: float64"
      ]
     },
     "execution_count": 21,
     "metadata": {},
     "output_type": "execute_result"
    }
   ],
   "source": [
    "high = 0.95\n",
    "quant_master_frame = master_frame['million_usd'].quantile([high])\n",
    "quant_master_frame"
   ]
  },
  {
   "cell_type": "markdown",
   "metadata": {},
   "source": [
    "### Choosing particular Funding Investment Type"
   ]
  },
  {
   "cell_type": "code",
   "execution_count": 28,
   "metadata": {},
   "outputs": [],
   "source": [
    "master_frame['funding_round_type'] = master_frame['funding_round_type'].str.lower()"
   ]
  },
  {
   "cell_type": "code",
   "execution_count": 29,
   "metadata": {},
   "outputs": [],
   "source": [
    "master_frame_segment = master_frame.groupby('funding_round_type')"
   ]
  },
  {
   "cell_type": "code",
   "execution_count": 31,
   "metadata": {},
   "outputs": [
    {
     "data": {
      "text/html": [
       "<div>\n",
       "<style scoped>\n",
       "    .dataframe tbody tr th:only-of-type {\n",
       "        vertical-align: middle;\n",
       "    }\n",
       "\n",
       "    .dataframe tbody tr th {\n",
       "        vertical-align: top;\n",
       "    }\n",
       "\n",
       "    .dataframe thead th {\n",
       "        text-align: right;\n",
       "    }\n",
       "</style>\n",
       "<table border=\"1\" class=\"dataframe\">\n",
       "  <thead>\n",
       "    <tr style=\"text-align: right;\">\n",
       "      <th></th>\n",
       "      <th>count</th>\n",
       "      <th>mean</th>\n",
       "      <th>std</th>\n",
       "      <th>min</th>\n",
       "      <th>25%</th>\n",
       "      <th>50%</th>\n",
       "      <th>75%</th>\n",
       "      <th>max</th>\n",
       "    </tr>\n",
       "    <tr>\n",
       "      <th>funding_round_type</th>\n",
       "      <th></th>\n",
       "      <th></th>\n",
       "      <th></th>\n",
       "      <th></th>\n",
       "      <th></th>\n",
       "      <th></th>\n",
       "      <th></th>\n",
       "      <th></th>\n",
       "    </tr>\n",
       "  </thead>\n",
       "  <tbody>\n",
       "    <tr>\n",
       "      <th>angel</th>\n",
       "      <td>6094.0</td>\n",
       "      <td>1.104856</td>\n",
       "      <td>6.618584</td>\n",
       "      <td>0.0</td>\n",
       "      <td>0.2000</td>\n",
       "      <td>0.600</td>\n",
       "      <td>1.6805</td>\n",
       "      <td>494.5120</td>\n",
       "    </tr>\n",
       "    <tr>\n",
       "      <th>private_equity</th>\n",
       "      <td>2285.0</td>\n",
       "      <td>62.368460</td>\n",
       "      <td>184.162554</td>\n",
       "      <td>0.0</td>\n",
       "      <td>1.6805</td>\n",
       "      <td>12.122</td>\n",
       "      <td>62.4000</td>\n",
       "      <td>4745.4602</td>\n",
       "    </tr>\n",
       "    <tr>\n",
       "      <th>seed</th>\n",
       "      <td>30524.0</td>\n",
       "      <td>0.937643</td>\n",
       "      <td>1.994660</td>\n",
       "      <td>0.0</td>\n",
       "      <td>0.1000</td>\n",
       "      <td>0.575</td>\n",
       "      <td>1.6805</td>\n",
       "      <td>200.0000</td>\n",
       "    </tr>\n",
       "    <tr>\n",
       "      <th>venture</th>\n",
       "      <td>55494.0</td>\n",
       "      <td>10.793522</td>\n",
       "      <td>82.205753</td>\n",
       "      <td>0.0</td>\n",
       "      <td>1.6805</td>\n",
       "      <td>4.000</td>\n",
       "      <td>10.5000</td>\n",
       "      <td>17600.0000</td>\n",
       "    </tr>\n",
       "  </tbody>\n",
       "</table>\n",
       "</div>"
      ],
      "text/plain": [
       "                      count       mean         std  min     25%     50%  \\\n",
       "funding_round_type                                                        \n",
       "angel                6094.0   1.104856    6.618584  0.0  0.2000   0.600   \n",
       "private_equity       2285.0  62.368460  184.162554  0.0  1.6805  12.122   \n",
       "seed                30524.0   0.937643    1.994660  0.0  0.1000   0.575   \n",
       "venture             55494.0  10.793522   82.205753  0.0  1.6805   4.000   \n",
       "\n",
       "                        75%         max  \n",
       "funding_round_type                       \n",
       "angel                1.6805    494.5120  \n",
       "private_equity      62.4000   4745.4602  \n",
       "seed                 1.6805    200.0000  \n",
       "venture             10.5000  17600.0000  "
      ]
     },
     "execution_count": 31,
     "metadata": {},
     "output_type": "execute_result"
    }
   ],
   "source": [
    "master_frame_segment.million_usd.describe()"
   ]
  },
  {
   "cell_type": "markdown",
   "metadata": {},
   "source": [
    "Dropping the rows which are not required as we need only angel,seed,venture,private_equity"
   ]
  },
  {
   "cell_type": "code",
   "execution_count": 32,
   "metadata": {
    "scrolled": true
   },
   "outputs": [],
   "source": [
    "master_frame.drop(master_frame.index[master_frame['funding_round_type'] == \"convertible_note\"], inplace = True)\n",
    "master_frame.drop(master_frame.index[master_frame['funding_round_type'] == \"debt_financing\"], inplace = True)\n",
    "master_frame.drop(master_frame.index[master_frame['funding_round_type'] == \"equity_crowdfunding\"], inplace = True)\n",
    "master_frame.drop(master_frame.index[master_frame['funding_round_type'] == \"grant\"], inplace = True)\n",
    "master_frame.drop(master_frame.index[master_frame['funding_round_type'] == \"non_equity_assistance\"], inplace = True)\n",
    "master_frame.drop(master_frame.index[master_frame['funding_round_type'] == \"post_ipo_debt\"], inplace = True)\n",
    "master_frame.drop(master_frame.index[master_frame['funding_round_type'] == \"post_ipo_equity\"], inplace = True)\n",
    "master_frame.drop(master_frame.index[master_frame['funding_round_type'] == \"product_crowdfunding\"], inplace = True)\n",
    "master_frame.drop(master_frame.index[master_frame['funding_round_type'] == \"secondary_market\"], inplace = True)\n",
    "master_frame.drop(master_frame.index[master_frame['funding_round_type'] == \"undisclosed\"], inplace = True)"
   ]
  },
  {
   "cell_type": "markdown",
   "metadata": {},
   "source": [
    "Have taken mean of the funding type investments for representative value investment for each of the chosen funding types"
   ]
  },
  {
   "cell_type": "code",
   "execution_count": 33,
   "metadata": {},
   "outputs": [
    {
     "data": {
      "text/html": [
       "<div>\n",
       "<style scoped>\n",
       "    .dataframe tbody tr th:only-of-type {\n",
       "        vertical-align: middle;\n",
       "    }\n",
       "\n",
       "    .dataframe tbody tr th {\n",
       "        vertical-align: top;\n",
       "    }\n",
       "\n",
       "    .dataframe thead th {\n",
       "        text-align: right;\n",
       "    }\n",
       "</style>\n",
       "<table border=\"1\" class=\"dataframe\">\n",
       "  <thead>\n",
       "    <tr style=\"text-align: right;\">\n",
       "      <th></th>\n",
       "      <th>count</th>\n",
       "      <th>mean</th>\n",
       "      <th>std</th>\n",
       "      <th>min</th>\n",
       "      <th>25%</th>\n",
       "      <th>50%</th>\n",
       "      <th>75%</th>\n",
       "      <th>max</th>\n",
       "    </tr>\n",
       "    <tr>\n",
       "      <th>funding_round_type</th>\n",
       "      <th></th>\n",
       "      <th></th>\n",
       "      <th></th>\n",
       "      <th></th>\n",
       "      <th></th>\n",
       "      <th></th>\n",
       "      <th></th>\n",
       "      <th></th>\n",
       "    </tr>\n",
       "  </thead>\n",
       "  <tbody>\n",
       "    <tr>\n",
       "      <th>angel</th>\n",
       "      <td>6094.0</td>\n",
       "      <td>1.104856</td>\n",
       "      <td>6.618584</td>\n",
       "      <td>0.0</td>\n",
       "      <td>0.2000</td>\n",
       "      <td>0.600</td>\n",
       "      <td>1.6805</td>\n",
       "      <td>494.5120</td>\n",
       "    </tr>\n",
       "    <tr>\n",
       "      <th>private_equity</th>\n",
       "      <td>2285.0</td>\n",
       "      <td>62.368460</td>\n",
       "      <td>184.162554</td>\n",
       "      <td>0.0</td>\n",
       "      <td>1.6805</td>\n",
       "      <td>12.122</td>\n",
       "      <td>62.4000</td>\n",
       "      <td>4745.4602</td>\n",
       "    </tr>\n",
       "    <tr>\n",
       "      <th>seed</th>\n",
       "      <td>30524.0</td>\n",
       "      <td>0.937643</td>\n",
       "      <td>1.994660</td>\n",
       "      <td>0.0</td>\n",
       "      <td>0.1000</td>\n",
       "      <td>0.575</td>\n",
       "      <td>1.6805</td>\n",
       "      <td>200.0000</td>\n",
       "    </tr>\n",
       "    <tr>\n",
       "      <th>venture</th>\n",
       "      <td>55494.0</td>\n",
       "      <td>10.793522</td>\n",
       "      <td>82.205753</td>\n",
       "      <td>0.0</td>\n",
       "      <td>1.6805</td>\n",
       "      <td>4.000</td>\n",
       "      <td>10.5000</td>\n",
       "      <td>17600.0000</td>\n",
       "    </tr>\n",
       "  </tbody>\n",
       "</table>\n",
       "</div>"
      ],
      "text/plain": [
       "                      count       mean         std  min     25%     50%  \\\n",
       "funding_round_type                                                        \n",
       "angel                6094.0   1.104856    6.618584  0.0  0.2000   0.600   \n",
       "private_equity       2285.0  62.368460  184.162554  0.0  1.6805  12.122   \n",
       "seed                30524.0   0.937643    1.994660  0.0  0.1000   0.575   \n",
       "venture             55494.0  10.793522   82.205753  0.0  1.6805   4.000   \n",
       "\n",
       "                        75%         max  \n",
       "funding_round_type                       \n",
       "angel                1.6805    494.5120  \n",
       "private_equity      62.4000   4745.4602  \n",
       "seed                 1.6805    200.0000  \n",
       "venture             10.5000  17600.0000  "
      ]
     },
     "execution_count": 33,
     "metadata": {},
     "output_type": "execute_result"
    }
   ],
   "source": [
    "master_frame_segment.million_usd.describe()"
   ]
  },
  {
   "cell_type": "markdown",
   "metadata": {},
   "source": [
    "Venture investment is most suitable from the above data, creaitng another dataframe for easy analysis"
   ]
  },
  {
   "cell_type": "code",
   "execution_count": 34,
   "metadata": {},
   "outputs": [],
   "source": [
    "venture_frame=master_frame[master_frame['funding_round_type'] == (\"venture\")]"
   ]
  },
  {
   "cell_type": "code",
   "execution_count": 35,
   "metadata": {},
   "outputs": [
    {
     "data": {
      "text/plain": [
       "permalink                      1\n",
       "name                           1\n",
       "homepage_url                2946\n",
       "category_list               1132\n",
       "status                         1\n",
       "country_code                2875\n",
       "state_code                  3796\n",
       "region                      3554\n",
       "city                        3554\n",
       "founded_at                 11192\n",
       "company_permalink              0\n",
       "funding_round_permalink        0\n",
       "funding_round_type             0\n",
       "funded_at                      0\n",
       "raised_amount_usd              0\n",
       "million_usd                    0\n",
       "dtype: int64"
      ]
     },
     "execution_count": 35,
     "metadata": {},
     "output_type": "execute_result"
    }
   ],
   "source": [
    "venture_frame.isnull().sum()"
   ]
  },
  {
   "cell_type": "markdown",
   "metadata": {},
   "source": [
    "### Choosing top 3 Countries for Invesment (Venture)"
   ]
  },
  {
   "cell_type": "markdown",
   "metadata": {},
   "source": [
    "Dropping the rows which are empty values in country_code"
   ]
  },
  {
   "cell_type": "code",
   "execution_count": 36,
   "metadata": {},
   "outputs": [],
   "source": [
    "venture_frame = venture_frame[~venture_frame.country_code.isnull()]"
   ]
  },
  {
   "cell_type": "code",
   "execution_count": 37,
   "metadata": {},
   "outputs": [
    {
     "data": {
      "text/plain": [
       "permalink                     0\n",
       "name                          0\n",
       "homepage_url               2318\n",
       "category_list               595\n",
       "status                        0\n",
       "country_code                  0\n",
       "state_code                  921\n",
       "region                      679\n",
       "city                        679\n",
       "founded_at                 9666\n",
       "company_permalink             0\n",
       "funding_round_permalink       0\n",
       "funding_round_type            0\n",
       "funded_at                     0\n",
       "raised_amount_usd             0\n",
       "million_usd                   0\n",
       "dtype: int64"
      ]
     },
     "execution_count": 37,
     "metadata": {},
     "output_type": "execute_result"
    }
   ],
   "source": [
    "venture_frame.isnull().sum()"
   ]
  },
  {
   "cell_type": "code",
   "execution_count": 38,
   "metadata": {},
   "outputs": [],
   "source": [
    "venture_grouped = venture_frame.groupby(\"country_code\").sum()"
   ]
  },
  {
   "cell_type": "code",
   "execution_count": 39,
   "metadata": {},
   "outputs": [],
   "source": [
    "venture_sort = venture_grouped.sort_values(by = \"million_usd\", ascending = False)"
   ]
  },
  {
   "cell_type": "code",
   "execution_count": 40,
   "metadata": {},
   "outputs": [
    {
     "data": {
      "text/html": [
       "<div>\n",
       "<style scoped>\n",
       "    .dataframe tbody tr th:only-of-type {\n",
       "        vertical-align: middle;\n",
       "    }\n",
       "\n",
       "    .dataframe tbody tr th {\n",
       "        vertical-align: top;\n",
       "    }\n",
       "\n",
       "    .dataframe thead th {\n",
       "        text-align: right;\n",
       "    }\n",
       "</style>\n",
       "<table border=\"1\" class=\"dataframe\">\n",
       "  <thead>\n",
       "    <tr style=\"text-align: right;\">\n",
       "      <th></th>\n",
       "      <th>raised_amount_usd</th>\n",
       "      <th>million_usd</th>\n",
       "    </tr>\n",
       "    <tr>\n",
       "      <th>country_code</th>\n",
       "      <th></th>\n",
       "      <th></th>\n",
       "    </tr>\n",
       "  </thead>\n",
       "  <tbody>\n",
       "    <tr>\n",
       "      <th>USA</th>\n",
       "      <td>4.262634e+11</td>\n",
       "      <td>426263.3991</td>\n",
       "    </tr>\n",
       "    <tr>\n",
       "      <th>CHN</th>\n",
       "      <td>4.071433e+10</td>\n",
       "      <td>40714.3209</td>\n",
       "    </tr>\n",
       "    <tr>\n",
       "      <th>GBR</th>\n",
       "      <td>2.066239e+10</td>\n",
       "      <td>20662.3934</td>\n",
       "    </tr>\n",
       "    <tr>\n",
       "      <th>IND</th>\n",
       "      <td>1.467418e+10</td>\n",
       "      <td>14674.1829</td>\n",
       "    </tr>\n",
       "    <tr>\n",
       "      <th>CAN</th>\n",
       "      <td>9.734578e+09</td>\n",
       "      <td>9734.5769</td>\n",
       "    </tr>\n",
       "    <tr>\n",
       "      <th>...</th>\n",
       "      <td>...</td>\n",
       "      <td>...</td>\n",
       "    </tr>\n",
       "    <tr>\n",
       "      <th>ECU</th>\n",
       "      <td>9.658500e+05</td>\n",
       "      <td>0.9658</td>\n",
       "    </tr>\n",
       "    <tr>\n",
       "      <th>MCO</th>\n",
       "      <td>6.570000e+05</td>\n",
       "      <td>0.6570</td>\n",
       "    </tr>\n",
       "    <tr>\n",
       "      <th>SAU</th>\n",
       "      <td>5.000000e+05</td>\n",
       "      <td>0.5000</td>\n",
       "    </tr>\n",
       "    <tr>\n",
       "      <th>GTM</th>\n",
       "      <td>3.000000e+05</td>\n",
       "      <td>0.3000</td>\n",
       "    </tr>\n",
       "    <tr>\n",
       "      <th>MMR</th>\n",
       "      <td>2.000000e+05</td>\n",
       "      <td>0.2000</td>\n",
       "    </tr>\n",
       "  </tbody>\n",
       "</table>\n",
       "<p>103 rows × 2 columns</p>\n",
       "</div>"
      ],
      "text/plain": [
       "              raised_amount_usd  million_usd\n",
       "country_code                                \n",
       "USA                4.262634e+11  426263.3991\n",
       "CHN                4.071433e+10   40714.3209\n",
       "GBR                2.066239e+10   20662.3934\n",
       "IND                1.467418e+10   14674.1829\n",
       "CAN                9.734578e+09    9734.5769\n",
       "...                         ...          ...\n",
       "ECU                9.658500e+05       0.9658\n",
       "MCO                6.570000e+05       0.6570\n",
       "SAU                5.000000e+05       0.5000\n",
       "GTM                3.000000e+05       0.3000\n",
       "MMR                2.000000e+05       0.2000\n",
       "\n",
       "[103 rows x 2 columns]"
      ]
     },
     "execution_count": 40,
     "metadata": {},
     "output_type": "execute_result"
    }
   ],
   "source": [
    "venture_sort"
   ]
  },
  {
   "cell_type": "code",
   "execution_count": 41,
   "metadata": {},
   "outputs": [],
   "source": [
    "top9 = venture_sort.iloc[:9]"
   ]
  },
  {
   "cell_type": "code",
   "execution_count": 42,
   "metadata": {},
   "outputs": [
    {
     "data": {
      "text/html": [
       "<div>\n",
       "<style scoped>\n",
       "    .dataframe tbody tr th:only-of-type {\n",
       "        vertical-align: middle;\n",
       "    }\n",
       "\n",
       "    .dataframe tbody tr th {\n",
       "        vertical-align: top;\n",
       "    }\n",
       "\n",
       "    .dataframe thead th {\n",
       "        text-align: right;\n",
       "    }\n",
       "</style>\n",
       "<table border=\"1\" class=\"dataframe\">\n",
       "  <thead>\n",
       "    <tr style=\"text-align: right;\">\n",
       "      <th></th>\n",
       "      <th>raised_amount_usd</th>\n",
       "      <th>million_usd</th>\n",
       "    </tr>\n",
       "    <tr>\n",
       "      <th>country_code</th>\n",
       "      <th></th>\n",
       "      <th></th>\n",
       "    </tr>\n",
       "  </thead>\n",
       "  <tbody>\n",
       "    <tr>\n",
       "      <th>USA</th>\n",
       "      <td>4.262634e+11</td>\n",
       "      <td>426263.3991</td>\n",
       "    </tr>\n",
       "    <tr>\n",
       "      <th>CHN</th>\n",
       "      <td>4.071433e+10</td>\n",
       "      <td>40714.3209</td>\n",
       "    </tr>\n",
       "    <tr>\n",
       "      <th>GBR</th>\n",
       "      <td>2.066239e+10</td>\n",
       "      <td>20662.3934</td>\n",
       "    </tr>\n",
       "    <tr>\n",
       "      <th>IND</th>\n",
       "      <td>1.467418e+10</td>\n",
       "      <td>14674.1829</td>\n",
       "    </tr>\n",
       "    <tr>\n",
       "      <th>CAN</th>\n",
       "      <td>9.734578e+09</td>\n",
       "      <td>9734.5769</td>\n",
       "    </tr>\n",
       "    <tr>\n",
       "      <th>FRA</th>\n",
       "      <td>7.373811e+09</td>\n",
       "      <td>7373.8104</td>\n",
       "    </tr>\n",
       "    <tr>\n",
       "      <th>ISR</th>\n",
       "      <td>7.099093e+09</td>\n",
       "      <td>7099.0912</td>\n",
       "    </tr>\n",
       "    <tr>\n",
       "      <th>DEU</th>\n",
       "      <td>6.730116e+09</td>\n",
       "      <td>6730.1130</td>\n",
       "    </tr>\n",
       "    <tr>\n",
       "      <th>JPN</th>\n",
       "      <td>3.437619e+09</td>\n",
       "      <td>3437.6188</td>\n",
       "    </tr>\n",
       "  </tbody>\n",
       "</table>\n",
       "</div>"
      ],
      "text/plain": [
       "              raised_amount_usd  million_usd\n",
       "country_code                                \n",
       "USA                4.262634e+11  426263.3991\n",
       "CHN                4.071433e+10   40714.3209\n",
       "GBR                2.066239e+10   20662.3934\n",
       "IND                1.467418e+10   14674.1829\n",
       "CAN                9.734578e+09    9734.5769\n",
       "FRA                7.373811e+09    7373.8104\n",
       "ISR                7.099093e+09    7099.0912\n",
       "DEU                6.730116e+09    6730.1130\n",
       "JPN                3.437619e+09    3437.6188"
      ]
     },
     "execution_count": 42,
     "metadata": {},
     "output_type": "execute_result"
    }
   ],
   "source": [
    "top9"
   ]
  },
  {
   "cell_type": "markdown",
   "metadata": {},
   "source": [
    "The top english speaking countries to be chosen for investment are: USA, GBR (UK) & IND"
   ]
  },
  {
   "cell_type": "markdown",
   "metadata": {},
   "source": [
    "### Choosing Top 3 Sectors from Each Country"
   ]
  },
  {
   "cell_type": "code",
   "execution_count": 43,
   "metadata": {},
   "outputs": [],
   "source": [
    "mapping=pd.read_csv(\"mapping.csv\", encoding=\"ISO-8859-1\")"
   ]
  },
  {
   "cell_type": "markdown",
   "metadata": {},
   "source": [
    "Creating new column primary_sector from Category_List so that the first category given in the list for a specific company is chosen"
   ]
  },
  {
   "cell_type": "code",
   "execution_count": 44,
   "metadata": {},
   "outputs": [],
   "source": [
    "venture_frame['primary_sector'] = venture_frame['category_list'].str.split('|').str[0]"
   ]
  },
  {
   "cell_type": "code",
   "execution_count": 45,
   "metadata": {},
   "outputs": [
    {
     "data": {
      "text/plain": [
       "0                         Media\n",
       "1         Application Platforms\n",
       "4                   Curated Web\n",
       "5                      Software\n",
       "8                 Biotechnology\n",
       "                  ...          \n",
       "114931            Biotechnology\n",
       "114934               E-Commerce\n",
       "114936            Biotechnology\n",
       "114937            Biotechnology\n",
       "114941      Enterprise Software\n",
       "Name: primary_sector, Length: 52619, dtype: object"
      ]
     },
     "execution_count": 45,
     "metadata": {},
     "output_type": "execute_result"
    }
   ],
   "source": [
    "venture_frame['primary_sector']"
   ]
  },
  {
   "cell_type": "markdown",
   "metadata": {},
   "source": [
    "Converting of mapping .csv from wide format to long format to create main_sector variable"
   ]
  },
  {
   "cell_type": "code",
   "execution_count": 46,
   "metadata": {},
   "outputs": [],
   "source": [
    "mapping=pd.melt(mapping, id_vars='category_list', value_vars=['Automotive & Sports', 'Cleantech / Semiconductors', 'Entertainment','Health','Manufacturing','News, Search and Messaging','Others','Social, Finance, Analytics, Advertising'])"
   ]
  },
  {
   "cell_type": "code",
   "execution_count": 47,
   "metadata": {},
   "outputs": [],
   "source": [
    "mapping = mapping.rename(columns = {\"variable\":\"main_sector\"})"
   ]
  },
  {
   "cell_type": "code",
   "execution_count": 48,
   "metadata": {},
   "outputs": [],
   "source": [
    "mapping=mapping[mapping['value']==1]"
   ]
  },
  {
   "cell_type": "code",
   "execution_count": 49,
   "metadata": {},
   "outputs": [
    {
     "data": {
      "text/html": [
       "<div>\n",
       "<style scoped>\n",
       "    .dataframe tbody tr th:only-of-type {\n",
       "        vertical-align: middle;\n",
       "    }\n",
       "\n",
       "    .dataframe tbody tr th {\n",
       "        vertical-align: top;\n",
       "    }\n",
       "\n",
       "    .dataframe thead th {\n",
       "        text-align: right;\n",
       "    }\n",
       "</style>\n",
       "<table border=\"1\" class=\"dataframe\">\n",
       "  <thead>\n",
       "    <tr style=\"text-align: right;\">\n",
       "      <th></th>\n",
       "      <th>category_list</th>\n",
       "      <th>main_sector</th>\n",
       "      <th>value</th>\n",
       "    </tr>\n",
       "  </thead>\n",
       "  <tbody>\n",
       "    <tr>\n",
       "      <th>8</th>\n",
       "      <td>Adventure Travel</td>\n",
       "      <td>Automotive &amp; Sports</td>\n",
       "      <td>1</td>\n",
       "    </tr>\n",
       "    <tr>\n",
       "      <th>14</th>\n",
       "      <td>Aerospace</td>\n",
       "      <td>Automotive &amp; Sports</td>\n",
       "      <td>1</td>\n",
       "    </tr>\n",
       "    <tr>\n",
       "      <th>45</th>\n",
       "      <td>Auto</td>\n",
       "      <td>Automotive &amp; Sports</td>\n",
       "      <td>1</td>\n",
       "    </tr>\n",
       "    <tr>\n",
       "      <th>46</th>\n",
       "      <td>Automated Kiosk</td>\n",
       "      <td>Automotive &amp; Sports</td>\n",
       "      <td>1</td>\n",
       "    </tr>\n",
       "    <tr>\n",
       "      <th>47</th>\n",
       "      <td>Automotive</td>\n",
       "      <td>Automotive &amp; Sports</td>\n",
       "      <td>1</td>\n",
       "    </tr>\n",
       "    <tr>\n",
       "      <th>...</th>\n",
       "      <td>...</td>\n",
       "      <td>...</td>\n",
       "      <td>...</td>\n",
       "    </tr>\n",
       "    <tr>\n",
       "      <th>5433</th>\n",
       "      <td>Social Recruiting</td>\n",
       "      <td>Social, Finance, Analytics, Advertising</td>\n",
       "      <td>1</td>\n",
       "    </tr>\n",
       "    <tr>\n",
       "      <th>5434</th>\n",
       "      <td>Social Television</td>\n",
       "      <td>Social, Finance, Analytics, Advertising</td>\n",
       "      <td>1</td>\n",
       "    </tr>\n",
       "    <tr>\n",
       "      <th>5435</th>\n",
       "      <td>Social Travel</td>\n",
       "      <td>Social, Finance, Analytics, Advertising</td>\n",
       "      <td>1</td>\n",
       "    </tr>\n",
       "    <tr>\n",
       "      <th>5446</th>\n",
       "      <td>Stock Exchanges</td>\n",
       "      <td>Social, Finance, Analytics, Advertising</td>\n",
       "      <td>1</td>\n",
       "    </tr>\n",
       "    <tr>\n",
       "      <th>5479</th>\n",
       "      <td>Venture Capital</td>\n",
       "      <td>Social, Finance, Analytics, Advertising</td>\n",
       "      <td>1</td>\n",
       "    </tr>\n",
       "  </tbody>\n",
       "</table>\n",
       "<p>687 rows × 3 columns</p>\n",
       "</div>"
      ],
      "text/plain": [
       "          category_list                              main_sector  value\n",
       "8      Adventure Travel                      Automotive & Sports      1\n",
       "14            Aerospace                      Automotive & Sports      1\n",
       "45                 Auto                      Automotive & Sports      1\n",
       "46      Automated Kiosk                      Automotive & Sports      1\n",
       "47           Automotive                      Automotive & Sports      1\n",
       "...                 ...                                      ...    ...\n",
       "5433  Social Recruiting  Social, Finance, Analytics, Advertising      1\n",
       "5434  Social Television  Social, Finance, Analytics, Advertising      1\n",
       "5435      Social Travel  Social, Finance, Analytics, Advertising      1\n",
       "5446    Stock Exchanges  Social, Finance, Analytics, Advertising      1\n",
       "5479    Venture Capital  Social, Finance, Analytics, Advertising      1\n",
       "\n",
       "[687 rows x 3 columns]"
      ]
     },
     "execution_count": 49,
     "metadata": {},
     "output_type": "execute_result"
    }
   ],
   "source": [
    "mapping"
   ]
  },
  {
   "cell_type": "markdown",
   "metadata": {},
   "source": [
    "Merging venture_frame and mapping data frames to identify 3 main sectors"
   ]
  },
  {
   "cell_type": "code",
   "execution_count": 51,
   "metadata": {},
   "outputs": [],
   "source": [
    "venture_frame1=pd.merge(venture_frame, mapping,left_on=\"primary_sector\",right_on=\"category_list\",how=\"left\")"
   ]
  },
  {
   "cell_type": "markdown",
   "metadata": {},
   "source": [
    "Creating three separate data frames D1, D2 and D3 for each of the three countries (UK, USA, IND) containing the observations of funding type FT falling within the 5-15 million USD range."
   ]
  },
  {
   "cell_type": "code",
   "execution_count": 52,
   "metadata": {},
   "outputs": [],
   "source": [
    "D1=venture_frame1[venture_frame1['country_code'] == (\"USA\")]"
   ]
  },
  {
   "cell_type": "code",
   "execution_count": 53,
   "metadata": {},
   "outputs": [],
   "source": [
    "D1=D1[(D1['million_usd']>=5)&(D1['million_usd']<=15)]"
   ]
  },
  {
   "cell_type": "code",
   "execution_count": 54,
   "metadata": {},
   "outputs": [],
   "source": [
    "D1_segment=D1.groupby('main_sector')"
   ]
  },
  {
   "cell_type": "code",
   "execution_count": 55,
   "metadata": {},
   "outputs": [
    {
     "data": {
      "text/html": [
       "<div>\n",
       "<style scoped>\n",
       "    .dataframe tbody tr th:only-of-type {\n",
       "        vertical-align: middle;\n",
       "    }\n",
       "\n",
       "    .dataframe tbody tr th {\n",
       "        vertical-align: top;\n",
       "    }\n",
       "\n",
       "    .dataframe thead th {\n",
       "        text-align: right;\n",
       "    }\n",
       "</style>\n",
       "<table border=\"1\" class=\"dataframe\">\n",
       "  <thead>\n",
       "    <tr style=\"text-align: right;\">\n",
       "      <th></th>\n",
       "      <th>count</th>\n",
       "      <th>mean</th>\n",
       "      <th>std</th>\n",
       "      <th>min</th>\n",
       "      <th>25%</th>\n",
       "      <th>50%</th>\n",
       "      <th>75%</th>\n",
       "      <th>max</th>\n",
       "    </tr>\n",
       "    <tr>\n",
       "      <th>main_sector</th>\n",
       "      <th></th>\n",
       "      <th></th>\n",
       "      <th></th>\n",
       "      <th></th>\n",
       "      <th></th>\n",
       "      <th></th>\n",
       "      <th></th>\n",
       "      <th></th>\n",
       "    </tr>\n",
       "  </thead>\n",
       "  <tbody>\n",
       "    <tr>\n",
       "      <th>Automotive &amp; Sports</th>\n",
       "      <td>167.0</td>\n",
       "      <td>8.707213</td>\n",
       "      <td>2.981831</td>\n",
       "      <td>5.0</td>\n",
       "      <td>6.000</td>\n",
       "      <td>8.1815</td>\n",
       "      <td>10.950</td>\n",
       "      <td>15.0</td>\n",
       "    </tr>\n",
       "    <tr>\n",
       "      <th>Cleantech / Semiconductors</th>\n",
       "      <td>2301.0</td>\n",
       "      <td>9.222514</td>\n",
       "      <td>3.112481</td>\n",
       "      <td>5.0</td>\n",
       "      <td>6.500</td>\n",
       "      <td>9.0000</td>\n",
       "      <td>12.000</td>\n",
       "      <td>15.0</td>\n",
       "    </tr>\n",
       "    <tr>\n",
       "      <th>Entertainment</th>\n",
       "      <td>580.0</td>\n",
       "      <td>8.621057</td>\n",
       "      <td>3.054328</td>\n",
       "      <td>5.0</td>\n",
       "      <td>6.000</td>\n",
       "      <td>8.0000</td>\n",
       "      <td>10.425</td>\n",
       "      <td>15.0</td>\n",
       "    </tr>\n",
       "    <tr>\n",
       "      <th>Health</th>\n",
       "      <td>912.0</td>\n",
       "      <td>9.036029</td>\n",
       "      <td>3.102049</td>\n",
       "      <td>5.0</td>\n",
       "      <td>6.100</td>\n",
       "      <td>8.6000</td>\n",
       "      <td>11.200</td>\n",
       "      <td>15.0</td>\n",
       "    </tr>\n",
       "    <tr>\n",
       "      <th>Manufacturing</th>\n",
       "      <td>803.0</td>\n",
       "      <td>9.089107</td>\n",
       "      <td>3.023879</td>\n",
       "      <td>5.0</td>\n",
       "      <td>6.465</td>\n",
       "      <td>8.8000</td>\n",
       "      <td>11.175</td>\n",
       "      <td>15.0</td>\n",
       "    </tr>\n",
       "    <tr>\n",
       "      <th>News, Search and Messaging</th>\n",
       "      <td>1567.0</td>\n",
       "      <td>8.817368</td>\n",
       "      <td>3.071449</td>\n",
       "      <td>5.0</td>\n",
       "      <td>6.000</td>\n",
       "      <td>8.0000</td>\n",
       "      <td>10.800</td>\n",
       "      <td>15.0</td>\n",
       "    </tr>\n",
       "    <tr>\n",
       "      <th>Others</th>\n",
       "      <td>2928.0</td>\n",
       "      <td>8.922227</td>\n",
       "      <td>3.067431</td>\n",
       "      <td>5.0</td>\n",
       "      <td>6.000</td>\n",
       "      <td>8.2500</td>\n",
       "      <td>11.000</td>\n",
       "      <td>15.0</td>\n",
       "    </tr>\n",
       "    <tr>\n",
       "      <th>Social, Finance, Analytics, Advertising</th>\n",
       "      <td>1915.0</td>\n",
       "      <td>8.723600</td>\n",
       "      <td>3.078441</td>\n",
       "      <td>5.0</td>\n",
       "      <td>6.000</td>\n",
       "      <td>8.0000</td>\n",
       "      <td>10.700</td>\n",
       "      <td>15.0</td>\n",
       "    </tr>\n",
       "  </tbody>\n",
       "</table>\n",
       "</div>"
      ],
      "text/plain": [
       "                                          count      mean       std  min  \\\n",
       "main_sector                                                                \n",
       "Automotive & Sports                       167.0  8.707213  2.981831  5.0   \n",
       "Cleantech / Semiconductors               2301.0  9.222514  3.112481  5.0   \n",
       "Entertainment                             580.0  8.621057  3.054328  5.0   \n",
       "Health                                    912.0  9.036029  3.102049  5.0   \n",
       "Manufacturing                             803.0  9.089107  3.023879  5.0   \n",
       "News, Search and Messaging               1567.0  8.817368  3.071449  5.0   \n",
       "Others                                   2928.0  8.922227  3.067431  5.0   \n",
       "Social, Finance, Analytics, Advertising  1915.0  8.723600  3.078441  5.0   \n",
       "\n",
       "                                           25%     50%     75%   max  \n",
       "main_sector                                                           \n",
       "Automotive & Sports                      6.000  8.1815  10.950  15.0  \n",
       "Cleantech / Semiconductors               6.500  9.0000  12.000  15.0  \n",
       "Entertainment                            6.000  8.0000  10.425  15.0  \n",
       "Health                                   6.100  8.6000  11.200  15.0  \n",
       "Manufacturing                            6.465  8.8000  11.175  15.0  \n",
       "News, Search and Messaging               6.000  8.0000  10.800  15.0  \n",
       "Others                                   6.000  8.2500  11.000  15.0  \n",
       "Social, Finance, Analytics, Advertising  6.000  8.0000  10.700  15.0  "
      ]
     },
     "execution_count": 55,
     "metadata": {},
     "output_type": "execute_result"
    }
   ],
   "source": [
    "D1_segment.million_usd.describe()"
   ]
  },
  {
   "cell_type": "markdown",
   "metadata": {},
   "source": [
    "The top three sectors in USA: Others > CleanTech/ Semiconductors > Social, Finance, Analytics, Advertising"
   ]
  },
  {
   "cell_type": "code",
   "execution_count": 56,
   "metadata": {},
   "outputs": [
    {
     "data": {
      "text/plain": [
       "main_sector\n",
       "Automotive & Sports                         1454.10\n",
       "Cleantech / Semiconductors                 21221.00\n",
       "Entertainment                               5000.21\n",
       "Health                                      8240.86\n",
       "Manufacturing                               7298.55\n",
       "News, Search and Messaging                 13816.82\n",
       "Others                                     26124.28\n",
       "Social, Finance, Analytics, Advertising    16705.69\n",
       "Name: million_usd, dtype: float64"
      ]
     },
     "execution_count": 56,
     "metadata": {},
     "output_type": "execute_result"
    }
   ],
   "source": [
    "round(D1_segment.million_usd.sum(),2)"
   ]
  },
  {
   "cell_type": "code",
   "execution_count": 57,
   "metadata": {},
   "outputs": [],
   "source": [
    "D11=D1[D1['main_sector'] == (\"Others\")]"
   ]
  },
  {
   "cell_type": "code",
   "execution_count": 58,
   "metadata": {},
   "outputs": [
    {
     "name": "stdout",
     "output_type": "stream",
     "text": [
      "                           million_usd\n",
      "company_permalink                     \n",
      "/organization/virtustream         64.3\n"
     ]
    }
   ],
   "source": [
    "D11 = D11.pivot_table(values = 'million_usd', index = 'company_permalink', aggfunc = 'sum')\n",
    "D11 = D11.sort_values(by = 'million_usd', ascending = False).head()\n",
    "print(D11.head(1))"
   ]
  },
  {
   "cell_type": "code",
   "execution_count": 59,
   "metadata": {},
   "outputs": [],
   "source": [
    "D111=D1[D1['main_sector'] == (\"Cleantech / Semiconductors\")]"
   ]
  },
  {
   "cell_type": "code",
   "execution_count": 60,
   "metadata": {},
   "outputs": [
    {
     "name": "stdout",
     "output_type": "stream",
     "text": [
      "                        million_usd\n",
      "company_permalink                  \n",
      "/organization/biodesix         75.3\n"
     ]
    }
   ],
   "source": [
    "D111 = D111.pivot_table(values = 'million_usd', index = 'company_permalink', aggfunc = 'sum')\n",
    "D111 = D111.sort_values(by = 'million_usd', ascending = False).head()\n",
    "print(D111.head(1))"
   ]
  },
  {
   "cell_type": "code",
   "execution_count": 61,
   "metadata": {},
   "outputs": [],
   "source": [
    "D2=venture_frame1[venture_frame1['country_code'] == (\"GBR\")]"
   ]
  },
  {
   "cell_type": "code",
   "execution_count": 62,
   "metadata": {},
   "outputs": [],
   "source": [
    "D2=D2[(D2['million_usd']>=5)&(D2['million_usd']<=15)]"
   ]
  },
  {
   "cell_type": "code",
   "execution_count": 63,
   "metadata": {},
   "outputs": [],
   "source": [
    "D2_segment=D2.groupby('main_sector')"
   ]
  },
  {
   "cell_type": "code",
   "execution_count": 64,
   "metadata": {},
   "outputs": [
    {
     "data": {
      "text/html": [
       "<div>\n",
       "<style scoped>\n",
       "    .dataframe tbody tr th:only-of-type {\n",
       "        vertical-align: middle;\n",
       "    }\n",
       "\n",
       "    .dataframe tbody tr th {\n",
       "        vertical-align: top;\n",
       "    }\n",
       "\n",
       "    .dataframe thead th {\n",
       "        text-align: right;\n",
       "    }\n",
       "</style>\n",
       "<table border=\"1\" class=\"dataframe\">\n",
       "  <thead>\n",
       "    <tr style=\"text-align: right;\">\n",
       "      <th></th>\n",
       "      <th>count</th>\n",
       "      <th>mean</th>\n",
       "      <th>std</th>\n",
       "      <th>min</th>\n",
       "      <th>25%</th>\n",
       "      <th>50%</th>\n",
       "      <th>75%</th>\n",
       "      <th>max</th>\n",
       "    </tr>\n",
       "    <tr>\n",
       "      <th>main_sector</th>\n",
       "      <th></th>\n",
       "      <th></th>\n",
       "      <th></th>\n",
       "      <th></th>\n",
       "      <th></th>\n",
       "      <th></th>\n",
       "      <th></th>\n",
       "      <th></th>\n",
       "    </tr>\n",
       "  </thead>\n",
       "  <tbody>\n",
       "    <tr>\n",
       "      <th>Automotive &amp; Sports</th>\n",
       "      <td>16.0</td>\n",
       "      <td>10.440725</td>\n",
       "      <td>3.371173</td>\n",
       "      <td>5.1331</td>\n",
       "      <td>7.489775</td>\n",
       "      <td>10.94500</td>\n",
       "      <td>13.000000</td>\n",
       "      <td>15.0</td>\n",
       "    </tr>\n",
       "    <tr>\n",
       "      <th>Cleantech / Semiconductors</th>\n",
       "      <td>127.0</td>\n",
       "      <td>8.952010</td>\n",
       "      <td>2.925980</td>\n",
       "      <td>5.0000</td>\n",
       "      <td>6.139550</td>\n",
       "      <td>8.42000</td>\n",
       "      <td>11.490000</td>\n",
       "      <td>15.0</td>\n",
       "    </tr>\n",
       "    <tr>\n",
       "      <th>Entertainment</th>\n",
       "      <td>54.0</td>\n",
       "      <td>8.546504</td>\n",
       "      <td>2.705239</td>\n",
       "      <td>5.0000</td>\n",
       "      <td>5.850000</td>\n",
       "      <td>8.48415</td>\n",
       "      <td>10.136275</td>\n",
       "      <td>15.0</td>\n",
       "    </tr>\n",
       "    <tr>\n",
       "      <th>Health</th>\n",
       "      <td>24.0</td>\n",
       "      <td>8.939054</td>\n",
       "      <td>3.133504</td>\n",
       "      <td>5.0000</td>\n",
       "      <td>6.299425</td>\n",
       "      <td>7.84605</td>\n",
       "      <td>11.512050</td>\n",
       "      <td>14.3</td>\n",
       "    </tr>\n",
       "    <tr>\n",
       "      <th>Manufacturing</th>\n",
       "      <td>42.0</td>\n",
       "      <td>8.617624</td>\n",
       "      <td>2.762393</td>\n",
       "      <td>5.0000</td>\n",
       "      <td>6.500000</td>\n",
       "      <td>7.96520</td>\n",
       "      <td>10.000000</td>\n",
       "      <td>15.0</td>\n",
       "    </tr>\n",
       "    <tr>\n",
       "      <th>News, Search and Messaging</th>\n",
       "      <td>73.0</td>\n",
       "      <td>8.434882</td>\n",
       "      <td>2.659227</td>\n",
       "      <td>5.0000</td>\n",
       "      <td>6.080000</td>\n",
       "      <td>7.52000</td>\n",
       "      <td>10.000000</td>\n",
       "      <td>15.0</td>\n",
       "    </tr>\n",
       "    <tr>\n",
       "      <th>Others</th>\n",
       "      <td>144.0</td>\n",
       "      <td>8.778642</td>\n",
       "      <td>3.004506</td>\n",
       "      <td>5.0000</td>\n",
       "      <td>6.235000</td>\n",
       "      <td>8.00000</td>\n",
       "      <td>10.632500</td>\n",
       "      <td>15.0</td>\n",
       "    </tr>\n",
       "    <tr>\n",
       "      <th>Social, Finance, Analytics, Advertising</th>\n",
       "      <td>98.0</td>\n",
       "      <td>8.386617</td>\n",
       "      <td>2.666610</td>\n",
       "      <td>5.0000</td>\n",
       "      <td>6.000000</td>\n",
       "      <td>8.00000</td>\n",
       "      <td>10.250575</td>\n",
       "      <td>15.0</td>\n",
       "    </tr>\n",
       "  </tbody>\n",
       "</table>\n",
       "</div>"
      ],
      "text/plain": [
       "                                         count       mean       std     min  \\\n",
       "main_sector                                                                   \n",
       "Automotive & Sports                       16.0  10.440725  3.371173  5.1331   \n",
       "Cleantech / Semiconductors               127.0   8.952010  2.925980  5.0000   \n",
       "Entertainment                             54.0   8.546504  2.705239  5.0000   \n",
       "Health                                    24.0   8.939054  3.133504  5.0000   \n",
       "Manufacturing                             42.0   8.617624  2.762393  5.0000   \n",
       "News, Search and Messaging                73.0   8.434882  2.659227  5.0000   \n",
       "Others                                   144.0   8.778642  3.004506  5.0000   \n",
       "Social, Finance, Analytics, Advertising   98.0   8.386617  2.666610  5.0000   \n",
       "\n",
       "                                              25%       50%        75%   max  \n",
       "main_sector                                                                   \n",
       "Automotive & Sports                      7.489775  10.94500  13.000000  15.0  \n",
       "Cleantech / Semiconductors               6.139550   8.42000  11.490000  15.0  \n",
       "Entertainment                            5.850000   8.48415  10.136275  15.0  \n",
       "Health                                   6.299425   7.84605  11.512050  14.3  \n",
       "Manufacturing                            6.500000   7.96520  10.000000  15.0  \n",
       "News, Search and Messaging               6.080000   7.52000  10.000000  15.0  \n",
       "Others                                   6.235000   8.00000  10.632500  15.0  \n",
       "Social, Finance, Analytics, Advertising  6.000000   8.00000  10.250575  15.0  "
      ]
     },
     "execution_count": 64,
     "metadata": {},
     "output_type": "execute_result"
    }
   ],
   "source": [
    "D2_segment.million_usd.describe()"
   ]
  },
  {
   "cell_type": "markdown",
   "metadata": {},
   "source": [
    "The top three sectors in UK: Others > CleanTech/ Semiconductors > Social, Finance, Analytics, Advertising"
   ]
  },
  {
   "cell_type": "code",
   "execution_count": 65,
   "metadata": {},
   "outputs": [
    {
     "data": {
      "text/plain": [
       "main_sector\n",
       "Automotive & Sports                         167.05\n",
       "Cleantech / Semiconductors                 1136.91\n",
       "Entertainment                               461.51\n",
       "Health                                      214.54\n",
       "Manufacturing                               361.94\n",
       "News, Search and Messaging                  615.75\n",
       "Others                                     1264.12\n",
       "Social, Finance, Analytics, Advertising     821.89\n",
       "Name: million_usd, dtype: float64"
      ]
     },
     "execution_count": 65,
     "metadata": {},
     "output_type": "execute_result"
    }
   ],
   "source": [
    "round(D2_segment.million_usd.sum(),2)"
   ]
  },
  {
   "cell_type": "code",
   "execution_count": 66,
   "metadata": {},
   "outputs": [],
   "source": [
    "D22=D2[D2['main_sector'] == (\"Others\")]"
   ]
  },
  {
   "cell_type": "code",
   "execution_count": 67,
   "metadata": {},
   "outputs": [
    {
     "name": "stdout",
     "output_type": "stream",
     "text": [
      "                              million_usd\n",
      "company_permalink                        \n",
      "/organization/electric-cloud         37.0\n"
     ]
    }
   ],
   "source": [
    "D22 = D22.pivot_table(values = 'million_usd', index = 'company_permalink', aggfunc = 'sum')\n",
    "D22 = D22.sort_values(by = 'million_usd', ascending = False).head()\n",
    "print(D22.head(1))"
   ]
  },
  {
   "cell_type": "code",
   "execution_count": 68,
   "metadata": {},
   "outputs": [],
   "source": [
    "D222=D2[D2['main_sector'] == (\"Cleantech / Semiconductors\")]"
   ]
  },
  {
   "cell_type": "code",
   "execution_count": 69,
   "metadata": {},
   "outputs": [
    {
     "name": "stdout",
     "output_type": "stream",
     "text": [
      "                           million_usd\n",
      "company_permalink                     \n",
      "/organization/eusa-pharma         35.6\n"
     ]
    }
   ],
   "source": [
    "D222 = D222.pivot_table(values = 'million_usd', index = 'company_permalink', aggfunc = 'sum')\n",
    "D222 = D222.sort_values(by = 'million_usd', ascending = False).head()\n",
    "print(D222.head(1))"
   ]
  },
  {
   "cell_type": "code",
   "execution_count": 70,
   "metadata": {},
   "outputs": [],
   "source": [
    "D3=venture_frame1[venture_frame1['country_code'] == (\"IND\")]"
   ]
  },
  {
   "cell_type": "code",
   "execution_count": 71,
   "metadata": {},
   "outputs": [],
   "source": [
    "D3=D3[(D3['million_usd']>=5)&(D3['million_usd']<=15)]"
   ]
  },
  {
   "cell_type": "code",
   "execution_count": 72,
   "metadata": {},
   "outputs": [],
   "source": [
    "D3_segment=D3.groupby('main_sector')"
   ]
  },
  {
   "cell_type": "code",
   "execution_count": 73,
   "metadata": {},
   "outputs": [
    {
     "data": {
      "text/html": [
       "<div>\n",
       "<style scoped>\n",
       "    .dataframe tbody tr th:only-of-type {\n",
       "        vertical-align: middle;\n",
       "    }\n",
       "\n",
       "    .dataframe tbody tr th {\n",
       "        vertical-align: top;\n",
       "    }\n",
       "\n",
       "    .dataframe thead th {\n",
       "        text-align: right;\n",
       "    }\n",
       "</style>\n",
       "<table border=\"1\" class=\"dataframe\">\n",
       "  <thead>\n",
       "    <tr style=\"text-align: right;\">\n",
       "      <th></th>\n",
       "      <th>count</th>\n",
       "      <th>mean</th>\n",
       "      <th>std</th>\n",
       "      <th>min</th>\n",
       "      <th>25%</th>\n",
       "      <th>50%</th>\n",
       "      <th>75%</th>\n",
       "      <th>max</th>\n",
       "    </tr>\n",
       "    <tr>\n",
       "      <th>main_sector</th>\n",
       "      <th></th>\n",
       "      <th></th>\n",
       "      <th></th>\n",
       "      <th></th>\n",
       "      <th></th>\n",
       "      <th></th>\n",
       "      <th></th>\n",
       "      <th></th>\n",
       "    </tr>\n",
       "  </thead>\n",
       "  <tbody>\n",
       "    <tr>\n",
       "      <th>Automotive &amp; Sports</th>\n",
       "      <td>13.0</td>\n",
       "      <td>10.530769</td>\n",
       "      <td>3.974373</td>\n",
       "      <td>5.0</td>\n",
       "      <td>6.5000</td>\n",
       "      <td>11.0</td>\n",
       "      <td>15.00</td>\n",
       "      <td>15.00</td>\n",
       "    </tr>\n",
       "    <tr>\n",
       "      <th>Cleantech / Semiconductors</th>\n",
       "      <td>20.0</td>\n",
       "      <td>8.269000</td>\n",
       "      <td>3.173212</td>\n",
       "      <td>5.0</td>\n",
       "      <td>5.3975</td>\n",
       "      <td>8.0</td>\n",
       "      <td>9.85</td>\n",
       "      <td>15.00</td>\n",
       "    </tr>\n",
       "    <tr>\n",
       "      <th>Entertainment</th>\n",
       "      <td>33.0</td>\n",
       "      <td>8.510000</td>\n",
       "      <td>3.102527</td>\n",
       "      <td>5.0</td>\n",
       "      <td>6.0000</td>\n",
       "      <td>8.0</td>\n",
       "      <td>10.00</td>\n",
       "      <td>15.00</td>\n",
       "    </tr>\n",
       "    <tr>\n",
       "      <th>Health</th>\n",
       "      <td>19.0</td>\n",
       "      <td>8.828421</td>\n",
       "      <td>2.200690</td>\n",
       "      <td>5.0</td>\n",
       "      <td>7.5000</td>\n",
       "      <td>9.0</td>\n",
       "      <td>10.00</td>\n",
       "      <td>13.08</td>\n",
       "    </tr>\n",
       "    <tr>\n",
       "      <th>Manufacturing</th>\n",
       "      <td>21.0</td>\n",
       "      <td>9.566667</td>\n",
       "      <td>2.982798</td>\n",
       "      <td>5.0</td>\n",
       "      <td>8.0000</td>\n",
       "      <td>10.0</td>\n",
       "      <td>10.00</td>\n",
       "      <td>15.00</td>\n",
       "    </tr>\n",
       "    <tr>\n",
       "      <th>News, Search and Messaging</th>\n",
       "      <td>52.0</td>\n",
       "      <td>8.342973</td>\n",
       "      <td>2.698079</td>\n",
       "      <td>5.0</td>\n",
       "      <td>5.9250</td>\n",
       "      <td>8.0</td>\n",
       "      <td>10.00</td>\n",
       "      <td>15.00</td>\n",
       "    </tr>\n",
       "    <tr>\n",
       "      <th>Others</th>\n",
       "      <td>109.0</td>\n",
       "      <td>9.242289</td>\n",
       "      <td>3.444908</td>\n",
       "      <td>5.0</td>\n",
       "      <td>6.0000</td>\n",
       "      <td>9.0</td>\n",
       "      <td>12.00</td>\n",
       "      <td>15.00</td>\n",
       "    </tr>\n",
       "    <tr>\n",
       "      <th>Social, Finance, Analytics, Advertising</th>\n",
       "      <td>32.0</td>\n",
       "      <td>9.079484</td>\n",
       "      <td>3.362389</td>\n",
       "      <td>5.0</td>\n",
       "      <td>6.0000</td>\n",
       "      <td>9.0</td>\n",
       "      <td>10.53</td>\n",
       "      <td>15.00</td>\n",
       "    </tr>\n",
       "  </tbody>\n",
       "</table>\n",
       "</div>"
      ],
      "text/plain": [
       "                                         count       mean       std  min  \\\n",
       "main_sector                                                                \n",
       "Automotive & Sports                       13.0  10.530769  3.974373  5.0   \n",
       "Cleantech / Semiconductors                20.0   8.269000  3.173212  5.0   \n",
       "Entertainment                             33.0   8.510000  3.102527  5.0   \n",
       "Health                                    19.0   8.828421  2.200690  5.0   \n",
       "Manufacturing                             21.0   9.566667  2.982798  5.0   \n",
       "News, Search and Messaging                52.0   8.342973  2.698079  5.0   \n",
       "Others                                   109.0   9.242289  3.444908  5.0   \n",
       "Social, Finance, Analytics, Advertising   32.0   9.079484  3.362389  5.0   \n",
       "\n",
       "                                            25%   50%    75%    max  \n",
       "main_sector                                                          \n",
       "Automotive & Sports                      6.5000  11.0  15.00  15.00  \n",
       "Cleantech / Semiconductors               5.3975   8.0   9.85  15.00  \n",
       "Entertainment                            6.0000   8.0  10.00  15.00  \n",
       "Health                                   7.5000   9.0  10.00  13.08  \n",
       "Manufacturing                            8.0000  10.0  10.00  15.00  \n",
       "News, Search and Messaging               5.9250   8.0  10.00  15.00  \n",
       "Others                                   6.0000   9.0  12.00  15.00  \n",
       "Social, Finance, Analytics, Advertising  6.0000   9.0  10.53  15.00  "
      ]
     },
     "execution_count": 73,
     "metadata": {},
     "output_type": "execute_result"
    }
   ],
   "source": [
    "D3_segment.million_usd.describe()"
   ]
  },
  {
   "cell_type": "markdown",
   "metadata": {},
   "source": [
    "The top three sectors in IND: Others > News, Search and Messaging > Entertainment"
   ]
  },
  {
   "cell_type": "code",
   "execution_count": 74,
   "metadata": {},
   "outputs": [
    {
     "data": {
      "text/plain": [
       "main_sector\n",
       "Automotive & Sports                         136.90\n",
       "Cleantech / Semiconductors                  165.38\n",
       "Entertainment                               280.83\n",
       "Health                                      167.74\n",
       "Manufacturing                               200.90\n",
       "News, Search and Messaging                  433.83\n",
       "Others                                     1007.41\n",
       "Social, Finance, Analytics, Advertising     290.54\n",
       "Name: million_usd, dtype: float64"
      ]
     },
     "execution_count": 74,
     "metadata": {},
     "output_type": "execute_result"
    }
   ],
   "source": [
    "round(D3_segment.million_usd.sum(),2)"
   ]
  },
  {
   "cell_type": "code",
   "execution_count": 75,
   "metadata": {},
   "outputs": [],
   "source": [
    "D33=D3[D3['main_sector'] == (\"Others\")]"
   ]
  },
  {
   "cell_type": "code",
   "execution_count": 76,
   "metadata": {},
   "outputs": [
    {
     "name": "stdout",
     "output_type": "stream",
     "text": [
      "                            million_usd\n",
      "company_permalink                      \n",
      "/organization/firstcry-com         39.0\n"
     ]
    }
   ],
   "source": [
    "D33 = D33.pivot_table(values = 'million_usd', index = 'company_permalink', aggfunc = 'sum')\n",
    "D33 = D33.sort_values(by = 'million_usd', ascending = False).head()\n",
    "print(D33.head(1))"
   ]
  },
  {
   "cell_type": "code",
   "execution_count": 77,
   "metadata": {},
   "outputs": [],
   "source": [
    "D333=D3[D3['main_sector'] == ('News, Search and Messaging')]"
   ]
  },
  {
   "cell_type": "code",
   "execution_count": 78,
   "metadata": {},
   "outputs": [
    {
     "name": "stdout",
     "output_type": "stream",
     "text": [
      "                                                million_usd\n",
      "company_permalink                                          \n",
      "/organization/gupshup-technology-india-pvt-ltd         33.0\n"
     ]
    }
   ],
   "source": [
    "D333 = D333.pivot_table(values = 'million_usd', index = 'company_permalink', aggfunc = 'sum')\n",
    "D333 = D333.sort_values(by = 'million_usd', ascending = False).head()\n",
    "print(D333.head(1))"
   ]
  },
  {
   "cell_type": "markdown",
   "metadata": {},
   "source": [
    "### Plots"
   ]
  },
  {
   "cell_type": "code",
   "execution_count": 79,
   "metadata": {},
   "outputs": [],
   "source": [
    "import matplotlib.pyplot as plt"
   ]
  },
  {
   "cell_type": "markdown",
   "metadata": {},
   "source": [
    "The avg funding for each investment"
   ]
  },
  {
   "cell_type": "code",
   "execution_count": 95,
   "metadata": {},
   "outputs": [
    {
     "data": {
      "image/png": "[encoded data removed]",
      "text/plain": [
       "<Figure size 432x288 with 1 Axes>"
      ]
     },
     "metadata": {
      "needs_background": "light"
     },
     "output_type": "display_data"
    }
   ],
   "source": [
    "master_frame_segment['million_usd'].mean().plot.bar()\n",
    "plt.show()"
   ]
  },
  {
   "cell_type": "markdown",
   "metadata": {},
   "source": [
    "Top 9 countries with Venture Investment Funding Type"
   ]
  },
  {
   "cell_type": "code",
   "execution_count": 82,
   "metadata": {},
   "outputs": [
    {
     "data": {
      "text/plain": [
       "<AxesSubplot:xlabel='country_code'>"
      ]
     },
     "execution_count": 82,
     "metadata": {},
     "output_type": "execute_result"
    },
    {
     "data": {
      "image/png": "[encoded data removed]",
      "text/plain": [
       "<Figure size 432x288 with 1 Axes>"
      ]
     },
     "metadata": {
      "needs_background": "light"
     },
     "output_type": "display_data"
    }
   ],
   "source": [
    "top9['million_usd'].plot.bar()"
   ]
  },
  {
   "cell_type": "code",
   "execution_count": 83,
   "metadata": {},
   "outputs": [],
   "source": [
    "D1_plot = D1\n",
    "\n",
    "D1_plot = D1_plot.groupby(\"main_sector\").million_usd.count().reset_index()\n",
    "D1_plot.sort_values([\"million_usd\"],axis=0,ascending=False,inplace=True)\n",
    "D1_plot = D1_plot.head(3)"
   ]
  },
  {
   "cell_type": "code",
   "execution_count": 84,
   "metadata": {},
   "outputs": [
    {
     "data": {
      "text/html": [
       "<div>\n",
       "<style scoped>\n",
       "    .dataframe tbody tr th:only-of-type {\n",
       "        vertical-align: middle;\n",
       "    }\n",
       "\n",
       "    .dataframe tbody tr th {\n",
       "        vertical-align: top;\n",
       "    }\n",
       "\n",
       "    .dataframe thead th {\n",
       "        text-align: right;\n",
       "    }\n",
       "</style>\n",
       "<table border=\"1\" class=\"dataframe\">\n",
       "  <thead>\n",
       "    <tr style=\"text-align: right;\">\n",
       "      <th></th>\n",
       "      <th>main_sector</th>\n",
       "      <th>million_usd</th>\n",
       "    </tr>\n",
       "  </thead>\n",
       "  <tbody>\n",
       "    <tr>\n",
       "      <th>6</th>\n",
       "      <td>Others</td>\n",
       "      <td>2928</td>\n",
       "    </tr>\n",
       "    <tr>\n",
       "      <th>1</th>\n",
       "      <td>Cleantech / Semiconductors</td>\n",
       "      <td>2301</td>\n",
       "    </tr>\n",
       "    <tr>\n",
       "      <th>7</th>\n",
       "      <td>Social, Finance, Analytics, Advertising</td>\n",
       "      <td>1915</td>\n",
       "    </tr>\n",
       "  </tbody>\n",
       "</table>\n",
       "</div>"
      ],
      "text/plain": [
       "                               main_sector  million_usd\n",
       "6                                   Others         2928\n",
       "1               Cleantech / Semiconductors         2301\n",
       "7  Social, Finance, Analytics, Advertising         1915"
      ]
     },
     "execution_count": 84,
     "metadata": {},
     "output_type": "execute_result"
    }
   ],
   "source": [
    "D1_plot"
   ]
  },
  {
   "cell_type": "code",
   "execution_count": 85,
   "metadata": {},
   "outputs": [],
   "source": [
    "D2_plot = D2\n",
    "\n",
    "D2_plot = D2_plot.groupby(\"main_sector\").million_usd.count().reset_index()\n",
    "D2_plot.sort_values([\"million_usd\"],axis=0,ascending=False,inplace=True)\n",
    "D2_plot = D2_plot.head(3)"
   ]
  },
  {
   "cell_type": "code",
   "execution_count": 86,
   "metadata": {},
   "outputs": [
    {
     "data": {
      "text/html": [
       "<div>\n",
       "<style scoped>\n",
       "    .dataframe tbody tr th:only-of-type {\n",
       "        vertical-align: middle;\n",
       "    }\n",
       "\n",
       "    .dataframe tbody tr th {\n",
       "        vertical-align: top;\n",
       "    }\n",
       "\n",
       "    .dataframe thead th {\n",
       "        text-align: right;\n",
       "    }\n",
       "</style>\n",
       "<table border=\"1\" class=\"dataframe\">\n",
       "  <thead>\n",
       "    <tr style=\"text-align: right;\">\n",
       "      <th></th>\n",
       "      <th>main_sector</th>\n",
       "      <th>million_usd</th>\n",
       "    </tr>\n",
       "  </thead>\n",
       "  <tbody>\n",
       "    <tr>\n",
       "      <th>6</th>\n",
       "      <td>Others</td>\n",
       "      <td>144</td>\n",
       "    </tr>\n",
       "    <tr>\n",
       "      <th>1</th>\n",
       "      <td>Cleantech / Semiconductors</td>\n",
       "      <td>127</td>\n",
       "    </tr>\n",
       "    <tr>\n",
       "      <th>7</th>\n",
       "      <td>Social, Finance, Analytics, Advertising</td>\n",
       "      <td>98</td>\n",
       "    </tr>\n",
       "  </tbody>\n",
       "</table>\n",
       "</div>"
      ],
      "text/plain": [
       "                               main_sector  million_usd\n",
       "6                                   Others          144\n",
       "1               Cleantech / Semiconductors          127\n",
       "7  Social, Finance, Analytics, Advertising           98"
      ]
     },
     "execution_count": 86,
     "metadata": {},
     "output_type": "execute_result"
    }
   ],
   "source": [
    "D2_plot"
   ]
  },
  {
   "cell_type": "code",
   "execution_count": 87,
   "metadata": {},
   "outputs": [],
   "source": [
    "D3_plot = D3\n",
    "\n",
    "D3_plot = D3_plot.groupby(\"main_sector\").million_usd.count().reset_index()\n",
    "D3_plot.sort_values([\"million_usd\"],axis=0,ascending=False,inplace=True)\n",
    "D3_plot = D3_plot.head(3)"
   ]
  },
  {
   "cell_type": "code",
   "execution_count": 88,
   "metadata": {},
   "outputs": [
    {
     "data": {
      "text/html": [
       "<div>\n",
       "<style scoped>\n",
       "    .dataframe tbody tr th:only-of-type {\n",
       "        vertical-align: middle;\n",
       "    }\n",
       "\n",
       "    .dataframe tbody tr th {\n",
       "        vertical-align: top;\n",
       "    }\n",
       "\n",
       "    .dataframe thead th {\n",
       "        text-align: right;\n",
       "    }\n",
       "</style>\n",
       "<table border=\"1\" class=\"dataframe\">\n",
       "  <thead>\n",
       "    <tr style=\"text-align: right;\">\n",
       "      <th></th>\n",
       "      <th>main_sector</th>\n",
       "      <th>million_usd</th>\n",
       "    </tr>\n",
       "  </thead>\n",
       "  <tbody>\n",
       "    <tr>\n",
       "      <th>6</th>\n",
       "      <td>Others</td>\n",
       "      <td>109</td>\n",
       "    </tr>\n",
       "    <tr>\n",
       "      <th>5</th>\n",
       "      <td>News, Search and Messaging</td>\n",
       "      <td>52</td>\n",
       "    </tr>\n",
       "    <tr>\n",
       "      <th>2</th>\n",
       "      <td>Entertainment</td>\n",
       "      <td>33</td>\n",
       "    </tr>\n",
       "  </tbody>\n",
       "</table>\n",
       "</div>"
      ],
      "text/plain": [
       "                  main_sector  million_usd\n",
       "6                      Others          109\n",
       "5  News, Search and Messaging           52\n",
       "2               Entertainment           33"
      ]
     },
     "execution_count": 88,
     "metadata": {},
     "output_type": "execute_result"
    }
   ],
   "source": [
    "D3_plot"
   ]
  },
  {
   "cell_type": "code",
   "execution_count": 89,
   "metadata": {},
   "outputs": [],
   "source": [
    "D12 = pd.merge(D1_plot,D2_plot,how='outer',on='main_sector')"
   ]
  },
  {
   "cell_type": "code",
   "execution_count": 90,
   "metadata": {},
   "outputs": [],
   "source": [
    "D123 = pd.merge(D12,D3_plot,how='outer',on='main_sector')"
   ]
  },
  {
   "cell_type": "code",
   "execution_count": 91,
   "metadata": {},
   "outputs": [
    {
     "data": {
      "text/html": [
       "<div>\n",
       "<style scoped>\n",
       "    .dataframe tbody tr th:only-of-type {\n",
       "        vertical-align: middle;\n",
       "    }\n",
       "\n",
       "    .dataframe tbody tr th {\n",
       "        vertical-align: top;\n",
       "    }\n",
       "\n",
       "    .dataframe thead th {\n",
       "        text-align: right;\n",
       "    }\n",
       "</style>\n",
       "<table border=\"1\" class=\"dataframe\">\n",
       "  <thead>\n",
       "    <tr style=\"text-align: right;\">\n",
       "      <th></th>\n",
       "      <th>main_sector</th>\n",
       "      <th>million_usd_x</th>\n",
       "      <th>million_usd_y</th>\n",
       "      <th>million_usd</th>\n",
       "    </tr>\n",
       "  </thead>\n",
       "  <tbody>\n",
       "    <tr>\n",
       "      <th>0</th>\n",
       "      <td>Others</td>\n",
       "      <td>2928.0</td>\n",
       "      <td>144.0</td>\n",
       "      <td>109.0</td>\n",
       "    </tr>\n",
       "    <tr>\n",
       "      <th>1</th>\n",
       "      <td>Cleantech / Semiconductors</td>\n",
       "      <td>2301.0</td>\n",
       "      <td>127.0</td>\n",
       "      <td>NaN</td>\n",
       "    </tr>\n",
       "    <tr>\n",
       "      <th>2</th>\n",
       "      <td>Social, Finance, Analytics, Advertising</td>\n",
       "      <td>1915.0</td>\n",
       "      <td>98.0</td>\n",
       "      <td>NaN</td>\n",
       "    </tr>\n",
       "    <tr>\n",
       "      <th>3</th>\n",
       "      <td>News, Search and Messaging</td>\n",
       "      <td>NaN</td>\n",
       "      <td>NaN</td>\n",
       "      <td>52.0</td>\n",
       "    </tr>\n",
       "    <tr>\n",
       "      <th>4</th>\n",
       "      <td>Entertainment</td>\n",
       "      <td>NaN</td>\n",
       "      <td>NaN</td>\n",
       "      <td>33.0</td>\n",
       "    </tr>\n",
       "  </tbody>\n",
       "</table>\n",
       "</div>"
      ],
      "text/plain": [
       "                               main_sector  million_usd_x  million_usd_y  \\\n",
       "0                                   Others         2928.0          144.0   \n",
       "1               Cleantech / Semiconductors         2301.0          127.0   \n",
       "2  Social, Finance, Analytics, Advertising         1915.0           98.0   \n",
       "3               News, Search and Messaging            NaN            NaN   \n",
       "4                            Entertainment            NaN            NaN   \n",
       "\n",
       "   million_usd  \n",
       "0        109.0  \n",
       "1          NaN  \n",
       "2          NaN  \n",
       "3         52.0  \n",
       "4         33.0  "
      ]
     },
     "execution_count": 91,
     "metadata": {},
     "output_type": "execute_result"
    }
   ],
   "source": [
    "D123"
   ]
  },
  {
   "cell_type": "code",
   "execution_count": 92,
   "metadata": {},
   "outputs": [
    {
     "data": {
      "text/html": [
       "<div>\n",
       "<style scoped>\n",
       "    .dataframe tbody tr th:only-of-type {\n",
       "        vertical-align: middle;\n",
       "    }\n",
       "\n",
       "    .dataframe tbody tr th {\n",
       "        vertical-align: top;\n",
       "    }\n",
       "\n",
       "    .dataframe thead th {\n",
       "        text-align: right;\n",
       "    }\n",
       "</style>\n",
       "<table border=\"1\" class=\"dataframe\">\n",
       "  <thead>\n",
       "    <tr style=\"text-align: right;\">\n",
       "      <th></th>\n",
       "      <th>USA</th>\n",
       "      <th>GBR(UK)</th>\n",
       "      <th>IND</th>\n",
       "    </tr>\n",
       "    <tr>\n",
       "      <th>main_sector</th>\n",
       "      <th></th>\n",
       "      <th></th>\n",
       "      <th></th>\n",
       "    </tr>\n",
       "  </thead>\n",
       "  <tbody>\n",
       "    <tr>\n",
       "      <th>Others</th>\n",
       "      <td>2928.0</td>\n",
       "      <td>144.0</td>\n",
       "      <td>109.0</td>\n",
       "    </tr>\n",
       "    <tr>\n",
       "      <th>Cleantech / Semiconductors</th>\n",
       "      <td>2301.0</td>\n",
       "      <td>127.0</td>\n",
       "      <td>0.0</td>\n",
       "    </tr>\n",
       "    <tr>\n",
       "      <th>Social, Finance, Analytics, Advertising</th>\n",
       "      <td>1915.0</td>\n",
       "      <td>98.0</td>\n",
       "      <td>0.0</td>\n",
       "    </tr>\n",
       "    <tr>\n",
       "      <th>News, Search and Messaging</th>\n",
       "      <td>0.0</td>\n",
       "      <td>0.0</td>\n",
       "      <td>52.0</td>\n",
       "    </tr>\n",
       "    <tr>\n",
       "      <th>Entertainment</th>\n",
       "      <td>0.0</td>\n",
       "      <td>0.0</td>\n",
       "      <td>33.0</td>\n",
       "    </tr>\n",
       "  </tbody>\n",
       "</table>\n",
       "</div>"
      ],
      "text/plain": [
       "                                            USA  GBR(UK)    IND\n",
       "main_sector                                                    \n",
       "Others                                   2928.0    144.0  109.0\n",
       "Cleantech / Semiconductors               2301.0    127.0    0.0\n",
       "Social, Finance, Analytics, Advertising  1915.0     98.0    0.0\n",
       "News, Search and Messaging                  0.0      0.0   52.0\n",
       "Entertainment                               0.0      0.0   33.0"
      ]
     },
     "execution_count": 92,
     "metadata": {},
     "output_type": "execute_result"
    }
   ],
   "source": [
    "D123 = D123.rename(columns={\"million_usd_x\": \"USA\", \"million_usd_y\": \"GBR(UK)\" ,\"million_usd\": \"IND\"})\n",
    "D123= D123.set_index(\"main_sector\")\n",
    "D123.fillna(0)"
   ]
  },
  {
   "cell_type": "markdown",
   "metadata": {},
   "source": [
    "Top three sectors in top three english speaking countries for investment funding type, Venture (vs. investment count)"
   ]
  },
  {
   "cell_type": "code",
   "execution_count": 93,
   "metadata": {},
   "outputs": [
    {
     "data": {
      "text/plain": [
       "<AxesSubplot:>"
      ]
     },
     "execution_count": 93,
     "metadata": {},
     "output_type": "execute_result"
    },
    {
     "data": {
      "image/png": "[encoded data removed]",
      "text/plain": [
       "<Figure size 432x288 with 1 Axes>"
      ]
     },
     "metadata": {
      "needs_background": "light"
     },
     "output_type": "display_data"
    }
   ],
   "source": [
    "D123.T.plot.bar(logy=True)"
   ]
  },
  {
   "cell_type": "code",
   "execution_count": null,
   "metadata": {},
   "outputs": [],
   "source": []
  }
 ],
 "metadata": {
  "kernelspec": {
   "display_name": "Python 3",
   "language": "python",
   "name": "python3"
  },
  "language_info": {
   "codemirror_mode": {
    "name": "ipython",
    "version": 3
   },
   "file_extension": ".py",
   "mimetype": "text/x-python",
   "name": "python",
   "nbconvert_exporter": "python",
   "pygments_lexer": "ipython3",
   "version": "3.8.5"
  }
 },
 "nbformat": 4,
 "nbformat_minor": 4
}
